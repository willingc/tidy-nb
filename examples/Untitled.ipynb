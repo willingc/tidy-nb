{
 "cells": [
  {
   "cell_type": "markdown",
   "id": "1b56c405-0326-42c7-967d-93cf3d98ca7a",
   "metadata": {},
   "source": [
    "# Vectors and Linear Algebra\n",
    "\n",
    "A *vector* is an ordered array of numbers (`list`) where each number has an assigned place.\n",
    "\n",
    "Vectors are used to represent points in vector space.\n",
    "\n",
    "Vectors must only contain numerical, usually floats.\n",
    "\n",
    "Vectors in the same space must have the same number of dimensions."
   ]
  },
  {
   "cell_type": "code",
   "execution_count": null,
   "id": "312ac051-4b8e-45a7-bb8c-4ea9cf24ce23",
   "metadata": {},
   "outputs": [],
   "source": []
  }
 ],
 "metadata": {
  "kernelspec": {
   "display_name": "Python 3 (ipykernel)",
   "language": "python",
   "name": "python3"
  },
  "language_info": {
   "codemirror_mode": {
    "name": "ipython",
    "version": 3
   },
   "file_extension": ".py",
   "mimetype": "text/x-python",
   "name": "python",
   "nbconvert_exporter": "python",
   "pygments_lexer": "ipython3",
   "version": "3.13.0"
  }
 },
 "nbformat": 4,
 "nbformat_minor": 5
}
