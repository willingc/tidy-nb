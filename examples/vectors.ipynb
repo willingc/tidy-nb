{
 "cells": [
  {
   "cell_type": "markdown",
   "id": "1b56c405-0326-42c7-967d-93cf3d98ca7a",
   "metadata": {},
   "source": [
    "# Vectors and Linear Algebra\n",
    "\n",
    "A *vector* is an ordered array of numbers (`list`) where each number has an assigned place.\n",
    "\n",
    "Vectors are used to represent points in vector space.\n",
    "\n",
    "Vectors must only contain numerical, usually floats.\n",
    "\n",
    "Vectors in the same space must have the same number of dimensions."
   ]
  },
  {
   "cell_type": "code",
   "execution_count": 1,
   "id": "312ac051-4b8e-45a7-bb8c-4ea9cf24ce23",
   "metadata": {},
   "outputs": [],
   "source": [
    "import numpy as np"
   ]
  },
  {
   "cell_type": "code",
   "execution_count": 2,
   "id": "a991ee36-c051-46a4-8a94-3e639197a030",
   "metadata": {},
   "outputs": [
    {
     "data": {
      "text/plain": [
       "array([0, 1, 2, 3])"
      ]
     },
     "execution_count": 2,
     "metadata": {},
     "output_type": "execute_result"
    }
   ],
   "source": [
    "np.array(range(4))"
   ]
  },
  {
   "cell_type": "code",
   "execution_count": 4,
   "id": "702fcc03-5e05-4ebc-93c9-2e8b0e49a39e",
   "metadata": {},
   "outputs": [
    {
     "data": {
      "text/plain": [
       "array([0, 1, 2, 3])"
      ]
     },
     "execution_count": 4,
     "metadata": {},
     "output_type": "execute_result"
    }
   ],
   "source": [
    "x = np.array(range(4))\n",
    "x"
   ]
  },
  {
   "cell_type": "code",
   "execution_count": 5,
   "id": "1e8bf0dc-2cef-41c1-9f8e-155bc2bec11e",
   "metadata": {},
   "outputs": [],
   "source": [
    "x[3] = 4"
   ]
  },
  {
   "cell_type": "code",
   "execution_count": 6,
   "id": "12333280-001c-4bbc-ac14-24b76175e773",
   "metadata": {},
   "outputs": [
    {
     "data": {
      "text/plain": [
       "array([0, 1, 2, 4])"
      ]
     },
     "execution_count": 6,
     "metadata": {},
     "output_type": "execute_result"
    }
   ],
   "source": [
    "x"
   ]
  },
  {
   "cell_type": "code",
   "execution_count": 7,
   "id": "b3dc7ce2-1a2d-43b8-a30e-498f295f1c41",
   "metadata": {},
   "outputs": [
    {
     "data": {
      "text/plain": [
       "array([0, 2, 4, 8])"
      ]
     },
     "execution_count": 7,
     "metadata": {},
     "output_type": "execute_result"
    }
   ],
   "source": [
    "x * 2"
   ]
  },
  {
   "cell_type": "markdown",
   "id": "0aacd6a6-525d-4ed3-9abf-cef6a3f86e69",
   "metadata": {},
   "source": [
    "## Vector length and normalization\n",
    "\n",
    "length is also called *norm*\n",
    "\n",
    "square each and take the root of the sum"
   ]
  },
  {
   "cell_type": "code",
   "execution_count": 8,
   "id": "198d4aba-d98c-43b5-9e25-ccdc0c5930a9",
   "metadata": {},
   "outputs": [],
   "source": [
    "x = np.array([3, 4])"
   ]
  },
  {
   "cell_type": "code",
   "execution_count": 9,
   "id": "190bb446-9322-47a9-bbdb-396191ef680c",
   "metadata": {},
   "outputs": [
    {
     "data": {
      "text/plain": [
       "np.float64(5.0)"
      ]
     },
     "execution_count": 9,
     "metadata": {},
     "output_type": "execute_result"
    }
   ],
   "source": [
    "np.linalg.norm(x)"
   ]
  },
  {
   "cell_type": "code",
   "execution_count": 10,
   "id": "fcafcbce-9213-46f1-9ab3-cbb5543c7048",
   "metadata": {},
   "outputs": [],
   "source": [
    "y = x*2"
   ]
  },
  {
   "cell_type": "code",
   "execution_count": 11,
   "id": "17b722d8-3dad-4e73-bca7-e61f92e463d2",
   "metadata": {},
   "outputs": [
    {
     "data": {
      "text/plain": [
       "array([6, 8])"
      ]
     },
     "execution_count": 11,
     "metadata": {},
     "output_type": "execute_result"
    }
   ],
   "source": [
    "y"
   ]
  },
  {
   "cell_type": "code",
   "execution_count": 12,
   "id": "9a061777-836e-4e0a-92ea-ed4898f0e472",
   "metadata": {},
   "outputs": [
    {
     "data": {
      "text/plain": [
       "np.float64(10.0)"
      ]
     },
     "execution_count": 12,
     "metadata": {},
     "output_type": "execute_result"
    }
   ],
   "source": [
    "np.linalg.norm(y)"
   ]
  },
  {
   "cell_type": "code",
   "execution_count": 13,
   "id": "8a2171db-f17d-4171-ba08-47c468c6f974",
   "metadata": {},
   "outputs": [],
   "source": [
    "x_normalized = x / np.linalg.norm(x)"
   ]
  },
  {
   "cell_type": "code",
   "execution_count": 14,
   "id": "0517d430-d632-4cff-8a77-5a69d3542887",
   "metadata": {},
   "outputs": [
    {
     "data": {
      "text/plain": [
       "array([0.6, 0.8])"
      ]
     },
     "execution_count": 14,
     "metadata": {},
     "output_type": "execute_result"
    }
   ],
   "source": [
    "x_normalized"
   ]
  },
  {
   "cell_type": "code",
   "execution_count": 15,
   "id": "90b00687-2bad-4818-ab1d-3cf3117338d7",
   "metadata": {},
   "outputs": [
    {
     "data": {
      "text/plain": [
       "np.float64(1.0)"
      ]
     },
     "execution_count": 15,
     "metadata": {},
     "output_type": "execute_result"
    }
   ],
   "source": [
    "np.linalg.norm(x_normalized)"
   ]
  },
  {
   "cell_type": "markdown",
   "id": "d4fd6a2a-5270-4251-a31e-3cc12886e9f1",
   "metadata": {},
   "source": [
    "Normalization scales the vector so all its dimensions are less than 1. Makes it easier to compute cosine distance between to vectors."
   ]
  },
  {
   "cell_type": "code",
   "execution_count": 16,
   "id": "8550b263-7cc5-4eda-b1c2-05f5f7aa4c2a",
   "metadata": {},
   "outputs": [
    {
     "ename": "NameError",
     "evalue": "name 'dim' is not defined",
     "output_type": "error",
     "traceback": [
      "\u001b[31m---------------------------------------------------------------------------\u001b[39m",
      "\u001b[31mNameError\u001b[39m                                 Traceback (most recent call last)",
      "\u001b[36mCell\u001b[39m\u001b[36m \u001b[39m\u001b[32mIn[16]\u001b[39m\u001b[32m, line 1\u001b[39m\n\u001b[32m----> \u001b[39m\u001b[32m1\u001b[39m \u001b[43mdim\u001b[49m(x)\n",
      "\u001b[31mNameError\u001b[39m: name 'dim' is not defined"
     ]
    }
   ],
   "source": []
  },
  {
   "cell_type": "code",
   "execution_count": null,
   "id": "a0331c47-d384-4121-b307-30b4c95baea1",
   "metadata": {},
   "outputs": [],
   "source": []
  }
 ],
 "metadata": {
  "kernelspec": {
   "display_name": "Python 3 (ipykernel)",
   "language": "python",
   "name": "python3"
  },
  "language_info": {
   "codemirror_mode": {
    "name": "ipython",
    "version": 3
   },
   "file_extension": ".py",
   "mimetype": "text/x-python",
   "name": "python",
   "nbconvert_exporter": "python",
   "pygments_lexer": "ipython3",
   "version": "3.13.0"
  }
 },
 "nbformat": 4,
 "nbformat_minor": 5
}
